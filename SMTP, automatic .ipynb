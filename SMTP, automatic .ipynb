{
 "cells": [
  {
   "cell_type": "code",
   "execution_count": 1,
   "metadata": {},
   "outputs": [],
   "source": [
    "from bs4 import BeautifulSoup\n",
    "import requests\n",
    "import pandas as pd\n",
    "from pandas import DataFrame \n",
    "import urllib,csv,os,datetime,urllib.request,re,sys,json"
   ]
  },
  {
   "cell_type": "code",
   "execution_count": 2,
   "metadata": {},
   "outputs": [],
   "source": [
    "#this function will return a csv file which list the movie avaiable in dy2018.com\n",
    "from bs4 import BeautifulSoup\n",
    "import requests\n",
    "import pandas as pd\n",
    "from pandas import DataFrame \n",
    "from numba import jit\n",
    "@jit\n",
    "def dy():\n",
    "    whole=[]\n",
    "    link=[]\n",
    "    witle=[]\n",
    "    dic={}\n",
    "    url='https://www.dy2018.com/html/gndy/dyzz/index.html'\n",
    "    res=requests.get(url)\n",
    "    res.encoding='gb2312'\n",
    "    soup=BeautifulSoup(res.text,'html.parser')\n",
    "    j=soup.select('b')\n",
    "    for i in j:\n",
    "        html=str('https://www.dy2018.com')+str(i)[26:36]+'.html'\n",
    "        x=html.replace('\"','')\n",
    "        title=str(i)[49:].rstrip('</b>')\n",
    "        link.append(x)\n",
    "        witle.append(title)\n",
    "    dic['title']=witle\n",
    "    dic['link']=link\n",
    "    df=DataFrame(dic)\n",
    "    df.to_csv('Todays_movie.csv')"
   ]
  },
  {
   "cell_type": "code",
   "execution_count": 3,
   "metadata": {},
   "outputs": [],
   "source": [
    "from numba import jit\n",
    "import datetime \n",
    "@jit\n",
    "def weatherget():\n",
    "    dt=datetime.datetime.now()\n",
    "    ti=dt.strftime('%Y,%B,%d,%A')\n",
    "    q='Hamilton'\n",
    "    url='http://api.openweathermap.org/data/2.5/weather?q='+q+'&APPID=b35975e18dc93725acb092f7272cc6b8&units=metric'\n",
    "    res=requests.get(url)\n",
    "    res.encoding='utf-8'\n",
    "    soup=BeautifulSoup(res.text,'html.parser')\n",
    "    k=res.json()\n",
    "    return k\n",
    "def temp(k):\n",
    "    temp=float(k['main'][\"temp\"])\n",
    "    feel=float(k['main']['feels_like'])\n",
    "    Tmin=str(k['main']['temp_min'])\n",
    "    Tmax=str(k['main']['temp_max'])\n",
    "    if feel>28:\n",
    "        return 'Such a hot day, wear shirts'+'  '+str('Todays Temperature is:'+str(temp))+'  '+str('Today feels like:'+str(feel))+'  '+str('Today max temp is:'+Tmax)+'  '+str('Tdays min temp is:'+Tmin)\n",
    "    elif feel<28 and feel> 23:\n",
    "        return 'Quite hot day, but wear T-shirts'+'  '+str('Todays Temperature is:'+str(temp))+'  '+str('Today feels like:'+str(feel))+'  '+str('Today max temp is:'+Tmax)+'  '+str('Tdays min temp is:'+Tmin)\n",
    "    elif feel>16 and feel<23:\n",
    "        return 'Quite cozy,still keep warm'+'  '+str('Todays Temperature is:'+str(temp))+'  '+str('Today feels like:'+str(feel))+'  '+str('Today max temp is:'+Tmax)+'  '+str('Tdays min temp is:'+Tmin)\n",
    "    elif feel>0 and feel<16:\n",
    "        return 'Its cool'+'  '+str('Todays Temperature is:'+str(temp))+'  '+str('Today feels like:'+str(feel))+'  '+str('Today max temp is:'+Tmax)+'  '+str('Tdays min temp is:'+Tmin)\n",
    "    else:\n",
    "        return 'Frozen!!'+'  '+str('Todays Temperature is:'+str(temp))+'  '+str('Today feels like:'+str(feel))+'  '+str('Today max temp is:'+Tmax)+'  '+str('Tdays min temp is:'+Tmin)\n",
    "    \n",
    "def winds(k):\n",
    "    winds=float(k['wind']['speed'])\n",
    "    if winds>12:\n",
    "        return 'Better to stay at home, because of the strong wind!'+'  '+str('Todays wind speed is:'+str(winds))\n",
    "    elif winds>8 and winds <12:\n",
    "        return 'Quite big wind, be careful while commuting'+'  '+str('Todays wind speed is:'+str(winds))\n",
    "    elif winds>4 and winds <8:\n",
    "        return 'Cozy wind, enjoy it!'+str('Todays wind speed is:'+'  '+str(winds))\n",
    "    else:\n",
    "        return 'No wind,Stuffy'+str('Todays wind speed is:'+'  '+str(winds))\n",
    "def pressure(k):\n",
    "    pressure=float(k['main']['pressure'])\n",
    "    if pressure>1100:\n",
    "        return 'Probably sunny, with crzy high pressure! careful'+'  '+str('Todays pressure is:'+str(pressure))\n",
    "    elif pressure>1000 and pressure<1100:\n",
    "        return 'Just normal pressure, nothing to worry about'+'  '+str('Todays pressure is:'+str(pressure))\n",
    "    else:\n",
    "        return 'Loooow pressure'+'  '+str('Todays pressure is:'+str(pressure))\n",
    "def humidity(k):\n",
    "    hum=float(k['main']['humidity'])\n",
    "    if hum>70:\n",
    "        return 'Quite Humidity, abnormal, probably rainy today'+'  '+str('Todays humidity is:'+str(hum))\n",
    "    elif hum>46 and hum<70:\n",
    "        return 'Normal day, with cozy range of humidity'+'  '+str('Todays humidity is:'+str(hum))\n",
    "    else:\n",
    "        return 'Such a dry day!!!'+'  '+str('Todays humidity is:'+str(hum))\n",
    "def final():\n",
    "    dt=datetime.datetime.now()\n",
    "    ti=dt.strftime('%Y,%B,%d,%A')\n",
    "    mg=weatherget()\n",
    "    a=temp(mg)\n",
    "    b=winds(mg)\n",
    "    c=pressure(mg)\n",
    "    d=humidity(mg)\n",
    "    description=mg['weather'][0]['description']\n",
    "    h=str('Today is:' +str(ti))\n",
    "    I=str('Description: '+str(description))\n",
    "    message=h+'------'+a+'------'+b+'------'+c+'------'+d+'-----'+I\n",
    "    return message\n",
    "   "
   ]
  },
  {
   "cell_type": "code",
   "execution_count": 4,
   "metadata": {},
   "outputs": [
    {
     "name": "stderr",
     "output_type": "stream",
     "text": [
      "<ipython-input-3-38ff1a7e060d>:3: NumbaWarning: \u001b[1m\n",
      "Compilation is falling back to object mode WITH looplifting enabled because Function \"weatherget\" failed type inference due to: \u001b[1mUntyped global name 'BeautifulSoup':\u001b[0m \u001b[1m\u001b[1mcannot determine Numba type of <class 'type'>\u001b[0m\n",
      "\u001b[1m\n",
      "File \"<ipython-input-3-38ff1a7e060d>\", line 11:\u001b[0m\n",
      "\u001b[1mdef weatherget():\n",
      "    <source elided>\n",
      "    res.encoding='utf-8'\n",
      "\u001b[1m    soup=BeautifulSoup(res.text,'html.parser')\n",
      "\u001b[0m    \u001b[1m^\u001b[0m\u001b[0m\n",
      "\u001b[0m\u001b[0m\n",
      "  @jit\n",
      "C:\\Users\\ROG\\Anaconda3\\envs\\venv\\lib\\site-packages\\numba\\object_mode_passes.py:178: NumbaWarning: \u001b[1mFunction \"weatherget\" was compiled in object mode without forceobj=True.\n",
      "\u001b[1m\n",
      "File \"<ipython-input-3-38ff1a7e060d>\", line 4:\u001b[0m\n",
      "\u001b[1m@jit\n",
      "\u001b[1mdef weatherget():\n",
      "\u001b[0m\u001b[1m^\u001b[0m\u001b[0m\n",
      "\u001b[0m\n",
      "  state.func_ir.loc))\n",
      "C:\\Users\\ROG\\Anaconda3\\envs\\venv\\lib\\site-packages\\numba\\object_mode_passes.py:187: NumbaDeprecationWarning: \u001b[1m\n",
      "Fall-back from the nopython compilation path to the object mode compilation path has been detected, this is deprecated behaviour.\n",
      "\n",
      "For more information visit http://numba.pydata.org/numba-doc/latest/reference/deprecation.html#deprecation-of-object-mode-fall-back-behaviour-when-using-jit\n",
      "\u001b[1m\n",
      "File \"<ipython-input-3-38ff1a7e060d>\", line 4:\u001b[0m\n",
      "\u001b[1m@jit\n",
      "\u001b[1mdef weatherget():\n",
      "\u001b[0m\u001b[1m^\u001b[0m\u001b[0m\n",
      "\u001b[0m\n",
      "  warnings.warn(errors.NumbaDeprecationWarning(msg, state.func_ir.loc))\n"
     ]
    },
    {
     "data": {
      "text/plain": [
       "(221, b'2.0.0 closing connection v2sm15111703qkj.29 - gsmtp')"
      ]
     },
     "execution_count": 4,
     "metadata": {},
     "output_type": "execute_result"
    }
   ],
   "source": [
    "#this code work for attached file \n",
    "import smtplib\n",
    "from email.mime.text import MIMEText\n",
    "from email.mime.multipart import MIMEMultipart\n",
    "from email.mime.base import MIMEBase\n",
    "from email import encoders\n",
    "import os.path\n",
    "email='rayrayray0495@gmail.com'\n",
    "password='Ss182060317'\n",
    "sendt='superrayking@hotmail.com'\n",
    "subject='Great Start, Spirit Up'\n",
    "file_location='C:\\\\Users\\\\ROG\\\\Todays_movie.csv'\n",
    "file_loc='C:\\\\Users\\\\ROG\\\\Great.jpg'\n",
    "message=str(final())\n",
    "msg=MIMEMultipart()\n",
    "msg['From']=email\n",
    "msg['To']=sendt\n",
    "msg['Subject']=subject\n",
    "msg.attach(MIMEText(message,'plain'))\n",
    "filename=os.path.basename(file_location)\n",
    "filename2=os.path.basename(file_location)\n",
    "attachment=open (file_location,\"rb\")\n",
    "att2=open (file_loc,\"rb\")\n",
    "part =MIMEBase('application','octet-stream')\n",
    "part.set_payload((attachment).read())\n",
    "part2 =MIMEBase('application','octet-stream')\n",
    "part2.set_payload((att2).read())\n",
    "encoders.encode_base64(part)\n",
    "encoders.encode_base64(part2)\n",
    "part.add_header('Content-Disposition','attachment;filename=%s'% filename)\n",
    "part.add_header('Content-Disposition','attachment;filename=%s'% filename2)\n",
    "msg.attach(part)\n",
    "msg.attach(part2)\n",
    "server=smtplib.SMTP('smtp.gmail.com',587)\n",
    "server.starttls()\n",
    "server.login(email,password)\n",
    "text=msg.as_string()\n",
    "server.sendmail(email,sendt,text)\n",
    "server.quit()"
   ]
  },
  {
   "cell_type": "code",
   "execution_count": 9,
   "metadata": {},
   "outputs": [],
   "source": [
    "from numba import jit\n",
    "@jit\n",
    "def sendmail():\n",
    "    email='rayrayray0495@gmail.com'\n",
    "    password=input('put your password here')\n",
    "    sendt='superrayking@hotmail.com'\n",
    "    subject='Great Start, Spirit Up'\n",
    "    file_location='C:\\\\Users\\\\ROG\\\\Todays_movie.csv'\n",
    "    message=weatherget()\n",
    "    msg=MIMEMultipart()\n",
    "    msg['From']=email\n",
    "    msg['To']=sendt\n",
    "    msg['Subject']=subject\n",
    "    msg.attach(MIMEText(message,'plain'))\n",
    "    filename=os.path.basename(file_location)\n",
    "    attachment=open (file_location,\"rb\")\n",
    "    part =MIMEBase('application','octet-stream')\n",
    "    part.set_payload((attachment).read())\n",
    "    encoders.encode_base64(part)\n",
    "    part.add_header('Content-Disposition','attachment;filename=%s'% filename)\n",
    "    msg.attach(part)\n",
    "    server=smtplib.SMTP('smtp.gmail.com',587)\n",
    "    server.starttls()\n",
    "    server.login(email,password)\n",
    "    text=msg.as_string()\n",
    "    server.sendmail(email,sendt,text)\n",
    "    server.quit()"
   ]
  },
  {
   "cell_type": "code",
   "execution_count": 204,
   "metadata": {},
   "outputs": [
    {
     "name": "stdout",
     "output_type": "stream",
     "text": [
      "put your password hereSs182060317\n"
     ]
    }
   ],
   "source": [
    "sendmail()"
   ]
  },
  {
   "cell_type": "code",
   "execution_count": 200,
   "metadata": {},
   "outputs": [],
   "source": [
    "from numba import jit\n",
    "import datetime \n",
    "@jit\n",
    "def weatherget():\n",
    "    dt=datetime.datetime.now()\n",
    "    ti=dt.strftime('%Y,%B,%d,%A')\n",
    "    q='Hamilton'\n",
    "    url='http://api.openweathermap.org/data/2.5/weather?q='+q+'&APPID=b35975e18dc93725acb092f7272cc6b8&units=metric'\n",
    "    res=requests.get(url)\n",
    "    res.encoding='utf-8'\n",
    "    soup=BeautifulSoup(res.text,'html.parser')\n",
    "    k=res.json()\n",
    "    description=k['weather'][0]['description']\n",
    "    temp=float(k['main'][\"temp\"])\n",
    "    feel=str(k['main']['feels_like'])\n",
    "    pressure=str(k['main']['pressure'])\n",
    "    hum=str(k['main']['humidity'])\n",
    "    Tmin=str(k['main']['temp_min'])\n",
    "    Tmax=str(k['main']['temp_max'])\n",
    "    winds=str(k['wind']['speed'])\n",
    "    a=str('Todays Temperature is:'+str(temp))\n",
    "    b=str('Today feels like:'+feel)\n",
    "    c=str('Today max temp is:'+Tmax)\n",
    "    d=str('Tdays min temp is:'+Tmin)\n",
    "    e=str('Todays pressure is:'+pressure)\n",
    "    f=str('Todays humidity is:'+hum)\n",
    "    g=str('Todays wind speed is:'+winds)\n",
    "    h=str('Today is:  ' +str(ti))\n",
    "    final=h,'**********',a,'*********',b,'*********',c,'*********',d,'*********',e,'*********',f,'*********',g\n",
    "    if temp>26:\n",
    "        return ('Today is a hot day!!!'+str(final))\n",
    "    elif temp>12 and temp<26:\n",
    "        return ('Today is a cozy day!!!'+str(final))\n",
    "    elif temp<12 and temp>0:\n",
    "        return ('Today is OK, wear coat!!!'+str(final))\n",
    "    else:\n",
    "        return ('Frozennn!'+str(final))\n",
    "        "
   ]
  },
  {
   "cell_type": "code",
   "execution_count": 195,
   "metadata": {},
   "outputs": [
    {
     "ename": "SyntaxError",
     "evalue": "invalid syntax (<ipython-input-195-78e3b29c3730>, line 4)",
     "output_type": "error",
     "traceback": [
      "\u001b[1;36m  File \u001b[1;32m\"<ipython-input-195-78e3b29c3730>\"\u001b[1;36m, line \u001b[1;32m4\u001b[0m\n\u001b[1;33m    import\u001b[0m\n\u001b[1;37m           ^\u001b[0m\n\u001b[1;31mSyntaxError\u001b[0m\u001b[1;31m:\u001b[0m invalid syntax\n"
     ]
    }
   ],
   "source": [
    "#the first smtp code i got from web, work for the text is only the str and no subject\n",
    "import smtplib\n",
    "import string\n",
    "import \n",
    "gmail_user = 'rayrayray0495@gmail.com'\n",
    "gmail_password = 'Ss182060317'\n",
    "\n",
    "sent_from = gmail_user\n",
    "to = ['raylyu11@gmail.com']\n",
    "text = ['0000']\n",
    "try:\n",
    "    server = smtplib.SMTP_SSL('smtp.gmail.com', 465)\n",
    "    server.ehlo() \n",
    "    server.sendmail(sent_from, to, text)\n",
    "    server.close()\n",
    "    print ('Email sent!')\n",
    "except:\n",
    "    print ('Something went wrong...')"
   ]
  },
  {
   "cell_type": "code",
   "execution_count": null,
   "metadata": {},
   "outputs": [],
   "source": [
    "import smtplib\n",
    "from email.mime.text import MIMEText\n",
    "from email.mime.multipart import MIMEMultipart\n",
    "#first worked code, this code is used for any text msg, with subject\n",
    "email='rayrayray0495@gmail.com'\n",
    "password='Ss182060317'\n",
    "sendt='superrayking@hotmail.com'\n",
    "subject='super'\n",
    "message=dy()\n",
    "msg=MIMEMultipart()\n",
    "msg['From']=email\n",
    "msg['To']=sendt\n",
    "msg['Subject']=subject\n",
    "msg.attach(MIMEText(message,'plain'))\n",
    "server=smtplib.SMTP('smtp.gmail.com',587)\n",
    "server.starttls()\n",
    "server.login(email,password)\n",
    "text=msg.as_string()\n",
    "server.sendmail(email,sendt,text)\n",
    "server.quit()"
   ]
  },
  {
   "cell_type": "code",
   "execution_count": 6,
   "metadata": {},
   "outputs": [
    {
     "data": {
      "text/plain": [
       "'Such a dry day!!!Todays humidity is:'"
      ]
     },
     "execution_count": 6,
     "metadata": {},
     "output_type": "execute_result"
    }
   ],
   "source": [
    "'Such a dry day!!!'+str('Todays humidity is:')"
   ]
  },
  {
   "cell_type": "code",
   "execution_count": null,
   "metadata": {},
   "outputs": [],
   "source": []
  }
 ],
 "metadata": {
  "kernelspec": {
   "display_name": "Python 3",
   "language": "python",
   "name": "python3"
  },
  "language_info": {
   "codemirror_mode": {
    "name": "ipython",
    "version": 3
   },
   "file_extension": ".py",
   "mimetype": "text/x-python",
   "name": "python",
   "nbconvert_exporter": "python",
   "pygments_lexer": "ipython3",
   "version": "3.7.1"
  }
 },
 "nbformat": 4,
 "nbformat_minor": 2
}
