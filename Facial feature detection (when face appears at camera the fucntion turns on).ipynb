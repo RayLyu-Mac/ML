{
 "cells": [
  {
   "cell_type": "code",
   "execution_count": 1,
   "metadata": {},
   "outputs": [],
   "source": [
    "import numpy as np \n",
    "import cv2\n",
    "import matplotlib.pyplot as plt\n",
    "img2=cv2.imread('me.jpg')\n",
    "face_cascade = cv2.CascadeClassifier('C:\\\\Users\\\\ROG\\\\Anaconda3\\\\Lib\\\\site-packages\\\\cv2\\\\data\\\\haarcascade_frontalface_default.xml')\n",
    "eye_cascade = cv2.CascadeClassifier('C:\\\\Users\\\\ROG\\\\Anaconda3\\\\Lib\\\\site-packages\\\\cv2\\data\\haarcascade_eye_tree_eyeglasses.xml')\n",
    "cap = cv2.VideoCapture(0)\n",
    "while (True):\n",
    "    ret,img=cap.read()\n",
    "    gray=cv2.cvtColor(img,cv2.COLOR_BGR2GRAY)\n",
    "    faces=face_cascade.detectMultiScale(gray,1.3,5)\n",
    "    for (x,y,w,h) in faces:\n",
    "        img1=img[y:y+h,x:x+w]\n",
    "        orb=cv2.ORB_create()\n",
    "        kp1,des1=orb.detectAndCompute(img1,None)\n",
    "        kp2,des2=orb.detectAndCompute(img2,None)\n",
    "        bf=cv2.BFMatcher(cv2.NORM_HAMMING,crossCheck=True)\n",
    "        matches=bf.match(des1,des2)\n",
    "        matches=sorted(matches, key=lambda x:x.distance)\n",
    "        img3=cv2.drawMatches(img1,kp1,img2,kp2,matches[:8],None,flags=2)\n",
    "        cv2.imshow('im',img3)\n",
    "    k=cv2.waitKey(30)& 0xff\n",
    "    if k==27:\n",
    "        break\n",
    "cap.release()\n",
    "cv2.destroyAllWindows()"
   ]
  },
  {
   "cell_type": "code",
   "execution_count": null,
   "metadata": {},
   "outputs": [],
   "source": []
  }
 ],
 "metadata": {
  "kernelspec": {
   "display_name": "Python 3",
   "language": "python",
   "name": "python3"
  },
  "language_info": {
   "codemirror_mode": {
    "name": "ipython",
    "version": 3
   },
   "file_extension": ".py",
   "mimetype": "text/x-python",
   "name": "python",
   "nbconvert_exporter": "python",
   "pygments_lexer": "ipython3",
   "version": "3.7.1"
  }
 },
 "nbformat": 4,
 "nbformat_minor": 2
}
