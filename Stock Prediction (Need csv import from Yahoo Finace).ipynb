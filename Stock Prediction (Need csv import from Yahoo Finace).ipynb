{
 "cells": [
  {
   "cell_type": "code",
   "execution_count": null,
   "metadata": {},
   "outputs": [],
   "source": [
    "import pandas as pd\n",
    "import numpy as np\n",
    "import quandl\n",
    "import math\n",
    "import sklearn\n",
    "from sklearn import preprocessing\n",
    "from sklearn.linear_model import LinearRegression\n",
    "import matplotlib.pyplot as plt\n",
    "from matplotlib import style\n",
    "import datetime\n",
    "from statistics import mean\n",
    "import random \n",
    "from sklearn import neighbors\n",
    "from collections import Counter\n",
    "import warnings"
   ]
  },
  {
   "cell_type": "code",
   "execution_count": null,
   "metadata": {},
   "outputs": [],
   "source": [
    "df=pd.read_csv('S.csv')\n",
    "df.set_index('Date',inplace=True)\n",
    "df['HL_PCT']=(df['High']-df['Adj Close'])/df['Adj Close']*100.0\n",
    "df['PCT_change']=(df['Adj Close']-df['Open'])/df['Open']*100.0\n",
    "df=df[['Adj Close','HL_PCT','PCT_change']]\n",
    "forcast='Adj Close'\n",
    "df.fillna(-99,inplace=True)\n",
    "forcastout=int(math.ceil(0.1*len(df)))#rounds up to integer value\n",
    "df['label']=df[forcast].shift(-forcastout)\n",
    "\n",
    "\n",
    "X=np.array(df.drop(['label'],1))#drop will return a new dataframe\n",
    "#feature will be captal X, label will be lower case y\n",
    "X=X[:-forcastout]\n",
    "X=preprocessing.scale(X)\n",
    "X_lat=X[-forcastout:]\n",
    "\n",
    "df.dropna(inplace=True)\n",
    "\n",
    "y=np.array(df['label'])\n",
    "y=np.array(df['label'])\n",
    "X_train,X_test,y_train,y_test=sklearn.model_selection.train_test_split(X,y,test_size=0.1)\n",
    "clf=LinearRegression()\n",
    "clf.fit(X_train,y_train)\n",
    "accuracy=clf.score(X_test,y_test)\n",
    "#display(accuracy,forcastout)\n",
    "forcast_set=clf.predict(X_lat)\n",
    "style.use=('ggplot')\n",
    "\n",
    "\n",
    "df['Forcast']=np.nan\n",
    "last_date=df.iloc[-1].name\n",
    "dt=datetime.datetime.strptime(last_date, '%Y-%m-%d')\n",
    "last_unix=dt.timestamp()\n",
    "one_day=86400#how many seconds per day\n",
    "next_unix=last_unix+one_day\n",
    "\n",
    "for i in forcast_set:\n",
    "    next_date=datetime.datetime.fromtimestamp(next_unix)\n",
    "    next_unix+=one_day\n",
    "    df.loc[next_date]=[np.nan for _ in range(len(df.columns)-1)]+[i]\n",
    "df['Adj Close'].plot()\n",
    "df['Forcast'].plot()\n",
    "plt.legend(loc=4)\n",
    "plt.xlabel('Date')\n",
    "plt.ylabel('Price')\n",
    "print('accuracy: ',accuracy)\n",
    "plt.savefig('stock.jpg',dpi=1600)"
   ]
  }
 ],
 "metadata": {
  "kernelspec": {
   "display_name": "Python 3",
   "language": "python",
   "name": "python3"
  },
  "language_info": {
   "codemirror_mode": {
    "name": "ipython",
    "version": 3
   },
   "file_extension": ".py",
   "mimetype": "text/x-python",
   "name": "python",
   "nbconvert_exporter": "python",
   "pygments_lexer": "ipython3",
   "version": "3.6.9"
  }
 },
 "nbformat": 4,
 "nbformat_minor": 2
}
