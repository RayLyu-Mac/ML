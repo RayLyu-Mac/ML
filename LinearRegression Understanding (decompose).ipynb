{
 "cells": [
  {
   "cell_type": "code",
   "execution_count": null,
   "metadata": {},
   "outputs": [],
   "source": [
    "import pandas as pd\n",
    "import numpy as np\n",
    "import quandl\n",
    "import math\n",
    "import sklearn\n",
    "from sklearn import preprocessing,svm\n",
    "from sklearn.linear_model import LinearRegression\n",
    "import matplotlib.pyplot as plt\n",
    "from matplotlib import style\n",
    "import datetime\n",
    "from statistics import mean\n",
    "import random \n",
    "from sklearn import neighbors\n",
    "from collections import Counter\n",
    "import warnings"
   ]
  },
  {
   "cell_type": "code",
   "execution_count": null,
   "metadata": {},
   "outputs": [],
   "source": [
    "def create(hm,variance,step=3,correlation=False):\n",
    "    val=1\n",
    "    ys=[]\n",
    "    for i in range(hm):\n",
    "        y=val+random.randrange(-variance,variance)\n",
    "        ys.append(y)\n",
    "        if correlation and correlation =='pos':\n",
    "            val+=step\n",
    "        elif correlation and correlation =='neg':\n",
    "            val-=step\n",
    "        xs=[i for i in range(len(ys))]\n",
    "    return np.array(xs,dtype=np.float64), np.array(ys,dtype=np.float64)\n",
    "xs,ys=create(40,10,2,correlation='pos')\n",
    "def best_fits(xs,ys):\n",
    "    m=((mean(xs)*mean(ys))-(mean(xs*ys)))/((mean(xs)**2-mean(xs**2)))\n",
    "    return m\n",
    "m=best_fits(xs,ys)\n",
    "def intercept(xs,ys,m):\n",
    "    b=mean(ys)-m*mean(xs)\n",
    "    return b\n",
    "b=intercept(xs,ys,m)\n",
    "\n",
    "def se(yso,ysl):\n",
    "    return sum((ysl-yso)**2)\n",
    "def coefficientDeter(yso,ysl):\n",
    "    ymean=[mean(yso) for y in yso]\n",
    "    squareError=se(yso,ysl)\n",
    "    squaredErrorMean=se(yso,ymean)\n",
    "    return 1-(squareError/squaredErrorMean)\n",
    "\n",
    "regression=[(m*x)+b for x in xs]\n",
    "es=coefficientDeter(ys,regression)\n",
    "print(es)\n",
    "plt.scatter(xs,ys)\n",
    "plt.plot(xs,regression)\n",
    "plt.show"
   ]
  }
 ],
 "metadata": {
  "kernelspec": {
   "display_name": "Python 3",
   "language": "python",
   "name": "python3"
  },
  "language_info": {
   "codemirror_mode": {
    "name": "ipython",
    "version": 3
   },
   "file_extension": ".py",
   "mimetype": "text/x-python",
   "name": "python",
   "nbconvert_exporter": "python",
   "pygments_lexer": "ipython3",
   "version": "3.6.9"
  }
 },
 "nbformat": 4,
 "nbformat_minor": 2
}
