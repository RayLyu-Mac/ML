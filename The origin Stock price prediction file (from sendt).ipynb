{
 "cells": [
  {
   "cell_type": "code",
   "execution_count": null,
   "metadata": {},
   "outputs": [],
   "source": [
    "import pandas as pd\n",
    "import numpy as np\n",
    "import quandl\n",
    "import math\n",
    "import sklearn\n",
    "from sklearn import preprocessing\n",
    "from sklearn.linear_model import LinearRegression\n",
    "import matplotlib.pyplot as plt\n",
    "from matplotlib import style\n",
    "import datetime\n",
    "from statistics import mean\n",
    "import random \n",
    "from sklearn import neighbors\n",
    "from collections import Counter\n",
    "import warnings"
   ]
  },
  {
   "cell_type": "code",
   "execution_count": null,
   "metadata": {},
   "outputs": [],
   "source": [
    "df=quandl.get(\"EOD/MMM\", authtoken=\"xcyzkuJxNDtzUpextG5H\")\n",
    "display(df)\n",
    "df=df[['Open','High','Low','Close','Volume','Dividend','Split','Adj_Open','Adj_High','Adj_Low','Adj_Close','Adj_Volume']]\n",
    "df['HL_PCT']=(df['Adj_High']-df['Adj_Close'])/df['Adj_Close']*100.0\n",
    "df['PCT_change']=(df['Adj_Close']-df['Adj_Open'])/df['Adj_Open']*100.0\n",
    "df=df[['Adj_Close','HL_PCT','PCT_change']]\n",
    "forcast='Adj_Close'\n",
    "df.fillna(-99,inplace=True)\n",
    "\n",
    "forcastout=int(math.ceil(0.1*len(df)))#rounds up to integer value\n",
    "df['label']=df[forcast].shift(-forcastout)\n",
    "\n",
    "\n",
    "X=np.array(df.drop(['label'],1))#drop will return a new dataframe\n",
    "#feature will be captal X, label will be lower case y\n",
    "X=X[:-forcastout]\n",
    "X=preprocessing.scale(X)\n",
    "X_lat=X[-forcastout:]\n",
    "display(X)\n",
    "df.dropna(inplace=True)\n",
    "y=np.array(df['label'])\n",
    "y=np.array(df['label'])\n",
    "display(y)\n",
    "X_train,X_test,y_train,y_test=sklearn.model_selection.train_test_split(X,y,test_size=0.3)\n",
    "clf=LinearRegression()\n",
    "clf.fit(X_train,y_train)\n",
    "accuracy=clf.score(X_test,y_test)\n",
    "#display(accuracy,forcastout)\n",
    "forcast_set=clf.predict(X_lat)\n",
    "style.use=('ggplot')\n",
    "df['Forcast']=np.nan\n",
    "last_date=df.iloc[-1].name\n",
    "last_unix=last_date.timestamp()\n",
    "one_day=86400#how many seconds per day\n",
    "next_unix=last_unix+one_day\n",
    "\n",
    "for i in forcast_set:\n",
    "    next_date=datetime.datetime.fromtimestamp(next_unix)\n",
    "    next_unix+=one_day\n",
    "    df.loc[next_date]=[np.nan for _ in range(len(df.columns)-1)]+[i]\n",
    "df['Adj_Close'].plot()\n",
    "df['Forcast'].plot()\n",
    "plt.legend(loc=4)\n",
    "plt.xlabel('Date')\n",
    "plt.ylabel('Price')\n",
    "print('accuracy: ',accuracy)\n",
    "plt.savefig('stock1.jpg',dpi=1400)\n",
    "df.to_csv('suu.csv')"
   ]
  }
 ],
 "metadata": {
  "kernelspec": {
   "display_name": "Python 3",
   "language": "python",
   "name": "python3"
  },
  "language_info": {
   "codemirror_mode": {
    "name": "ipython",
    "version": 3
   },
   "file_extension": ".py",
   "mimetype": "text/x-python",
   "name": "python",
   "nbconvert_exporter": "python",
   "pygments_lexer": "ipython3",
   "version": "3.6.9"
  }
 },
 "nbformat": 4,
 "nbformat_minor": 2
}
