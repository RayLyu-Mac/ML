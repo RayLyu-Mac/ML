{
 "cells": [
  {
   "cell_type": "code",
   "execution_count": null,
   "metadata": {},
   "outputs": [],
   "source": [
    "import pandas as pd\n",
    "import numpy as np\n",
    "import quandl\n",
    "import math\n",
    "import sklearn\n",
    "from sklearn import preprocessing,svm\n",
    "from sklearn.linear_model import LinearRegression\n",
    "import matplotlib.pyplot as plt\n",
    "from matplotlib import style\n",
    "import datetime\n",
    "from statistics import mean\n",
    "import random \n",
    "from sklearn import neighbors\n",
    "from collections import Counter\n",
    "import warnings"
   ]
  },
  {
   "cell_type": "code",
   "execution_count": null,
   "metadata": {},
   "outputs": [],
   "source": [
    "#classification \n",
    "accuracy1=[]\n",
    "k=50\n",
    "for i in range(k):\n",
    "    df=pd.read_csv('dataR2.csv')\n",
    "    df.drop(['Age'],1,inplace=True)\n",
    "    full_data=df.astype(float).values.tolist()\n",
    "    random.shuffle(full_data)\n",
    "    test_size=0.7\n",
    "    train_set={1:[],2:[]}\n",
    "    test_set={1:[],2:[]}\n",
    "    train_data=full_data[:-int(test_size*len(full_data))]#create the index value and slice that \n",
    "    test_data=full_data[-int(test_size*len(full_data)):]#Test data will be last 20%\n",
    "    for i in train_data:\n",
    "        train_set[i[-1]].append(i[:-1])#last column either 1, or 2\n",
    "    for i in test_data:\n",
    "        test_set[i[-1]].append(i[:-1])\n",
    "\n",
    "    def k_nearest_n(data,predict,k):\n",
    "        if len(data)>=k:\n",
    "            warnings.warn('K is not a good value')\n",
    "        distances=[]\n",
    "        for group in  data:\n",
    "            for features in data[group]:\n",
    "                eculidean=np.linalg.norm(np.array(features)-np.array(predict))\n",
    "                distances.append([eculidean,group])\n",
    "        votes=[i[1] for i in sorted(distances)[:k]]\n",
    "        vote_result=Counter(votes).most_common(1)[0][0]\n",
    "        confidence=Counter(votes).most_common(1)[0][1]/k\n",
    "        return vote_result,confidence\n",
    "    correct=0\n",
    "    total=0\n",
    "    for group in test_set:\n",
    "        for data in test_set[group]:\n",
    "            votes,con=k_nearest_n(train_set,data,k=5)\n",
    "            if group==votes:\n",
    "                correct+=1\n",
    "            total+=1\n",
    "    accuracy=correct/total\n",
    "    accuracy1.append(accuracy)\n",
    "print('The accuracy of {} times is:'.format(k),sum(accuracies)/len(accuracies)*100.0,'%')"
   ]
  },
  {
   "cell_type": "code",
   "execution_count": null,
   "metadata": {},
   "outputs": [],
   "source": [
    "accuracies=[]\n",
    "k=50\n",
    "for i in range(k):\n",
    "    df=pd.read_csv('dataR2.csv')\n",
    "    #df.drop(['Age'],1,inplace=True)\n",
    "    X=np.array(df.drop(['Classification'],1))\n",
    "    y=np.array(df['Classification'])\n",
    "\n",
    "    X_train,X_test,y_train,y_test=sklearn.model_selection.train_test_split(X,y,test_size=0.7)\n",
    "\n",
    "    clf=svm.SVC()\n",
    "    clf.fit(X_train, y_train)\n",
    "\n",
    "    accuracy=clf.score(X_test,y_test)\n",
    "    accuracies.append(accuracy)\n",
    "\n",
    "print('The accuracy of {} times is:'.format(k),sum(accuracies)/len(accuracies)*100.0,'%')"
   ]
  }
 ],
 "metadata": {
  "kernelspec": {
   "display_name": "Python 3",
   "language": "python",
   "name": "python3"
  },
  "language_info": {
   "codemirror_mode": {
    "name": "ipython",
    "version": 3
   },
   "file_extension": ".py",
   "mimetype": "text/x-python",
   "name": "python",
   "nbconvert_exporter": "python",
   "pygments_lexer": "ipython3",
   "version": "3.6.9"
  }
 },
 "nbformat": 4,
 "nbformat_minor": 2
}
