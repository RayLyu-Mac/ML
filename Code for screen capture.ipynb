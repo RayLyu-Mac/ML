{
 "cells": [
  {
   "cell_type": "code",
   "execution_count": null,
   "metadata": {},
   "outputs": [],
   "source": [
    ">>> screenWidth, screenHeight = pyautogui.size()\n",
    ">>> currentMouseX, currentMouseY = pyautogui.position()\n",
    ">>> pyautogui.moveTo(100, 150)\n",
    ">>> pyautogui.click()\n",
    ">>> pyautogui.moveRel(None, 10)  # move mouse 10 pixels down\n",
    ">>> pyautogui.doubleClick()\n",
    ">>> pyautogui.moveTo(500, 500, duration=2, tween=pyautogui.easeInOutQuad)  # use tweening/easing function to move mouse over 2 seconds.\n",
    ">>> pyautogui.typewrite('Hello world!', interval=0.25)  # type with quarter-second pause in between each key\n",
    ">>> pyautogui.press('esc')\n",
    ">>> pyautogui.keyDown('shift')\n",
    ">>> pyautogui.press(['left', 'left', 'left', 'left', 'left', 'left'])\n",
    ">>> pyautogui.keyUp('shift')\n",
    ">>> pyautogui.hotkey('ctrl', 'c')"
   ]
  }
 ],
 "metadata": {
  "kernelspec": {
   "display_name": "Python 3",
   "language": "python",
   "name": "python3"
  },
  "language_info": {
   "codemirror_mode": {
    "name": "ipython",
    "version": 3
   },
   "file_extension": ".py",
   "mimetype": "text/x-python",
   "name": "python",
   "nbconvert_exporter": "python",
   "pygments_lexer": "ipython3",
   "version": "3.7.1"
  }
 },
 "nbformat": 4,
 "nbformat_minor": 2
}
